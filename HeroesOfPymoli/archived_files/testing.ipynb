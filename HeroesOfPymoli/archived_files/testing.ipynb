{
 "cells": [
  {
   "cell_type": "code",
   "execution_count": 26,
   "metadata": {},
   "outputs": [
    {
     "name": "stdout",
     "output_type": "stream",
     "text": [
      "           SN  Price\n",
      "0   Lisosia93   1.59\n",
      "1   Lisosia93   2.00\n",
      "2   Lisosia93   3.95\n",
      "3      Iral74   0.99\n",
      "4      Iral74   1.25\n",
      "5   spamnut69   4.25\n",
      "6         bob   2.23\n",
      "7         bob   3.95\n",
      "8         joe   0.99\n",
      "9         joe   1.25\n",
      "10        joe   0.99\n",
      "11         ed   1.25\n",
      "12        sue   4.25\n",
      "13  spamnut69   2.23\n",
      "14  spamnut69   2.33\n",
      "15  spamnut69   4.25\n"
     ]
    }
   ],
   "source": [
    "import pandas as pd\n",
    "\n",
    "Boxes = {'SN': ['Lisosia93','Lisosia93','Lisosia93','Iral74','Iral74','spamnut69',\n",
    "                'bob', 'bob', 'joe', 'joe', 'joe', 'ed', 'sue', 'spamnut69','spamnut69', 'spamnut69'],\n",
    "         'Price': [1.59, 2, 3.95, 0.99, 1.25, 4.25, 2.23, 3.95, 0.99, 1.25, 0.99, 1.25, 4.25, 2.23, 2.33, 4.25]\n",
    "        }\n",
    "\n",
    "df = pd.DataFrame(Boxes, columns= ['SN','Price'])\n",
    "print (df)"
   ]
  },
  {
   "cell_type": "code",
   "execution_count": 27,
   "metadata": {},
   "outputs": [
    {
     "name": "stdout",
     "output_type": "stream",
     "text": [
      "---- player count of transactions\n",
      "SN\n",
      "spamnut69    4\n",
      "joe          3\n",
      "Lisosia93    3\n",
      "bob          2\n",
      "Iral74       2\n",
      "sue          1\n",
      "ed           1\n",
      "dtype: int64\n"
     ]
    }
   ],
   "source": [
    "dups_SN = df.pivot_table(index=['SN'], aggfunc='size')\n",
    "print('---- player count of transactions')\n",
    "dups_SN = dups_SN.sort_values(ascending=False)\n",
    "print (dups_SN)\n",
    "\n",
    "\n"
   ]
  },
  {
   "cell_type": "code",
   "execution_count": 28,
   "metadata": {},
   "outputs": [
    {
     "name": "stdout",
     "output_type": "stream",
     "text": [
      "\n",
      "---- ave price\n",
      "              Price\n",
      "SN                 \n",
      "Iral74     1.120000\n",
      "Lisosia93  2.513333\n",
      "bob        3.090000\n",
      "ed         1.250000\n",
      "joe        1.076667\n",
      "spamnut69  3.265000\n",
      "sue        4.250000\n",
      "\n",
      "---- total price\n",
      "           Price\n",
      "SN              \n",
      "Iral74      2.24\n",
      "Lisosia93   7.54\n",
      "bob         6.18\n",
      "ed          1.25\n",
      "joe         3.23\n",
      "spamnut69  13.06\n",
      "sue         4.25\n"
     ]
    }
   ],
   "source": [
    "aveprice_SN = df.pivot_table(index=['SN'], aggfunc='mean')\n",
    "print('\\n---- ave price')\n",
    "print (aveprice_SN)\n",
    "\n",
    "sumprice_SN = df.pivot_table(index=['SN'], aggfunc=sum)\n",
    "print('\\n---- total price')\n",
    "print (sumprice_SN)"
   ]
  },
  {
   "cell_type": "code",
   "execution_count": null,
   "metadata": {},
   "outputs": [],
   "source": []
  }
 ],
 "metadata": {
  "kernelspec": {
   "display_name": "Python 3",
   "language": "python",
   "name": "python3"
  },
  "language_info": {
   "codemirror_mode": {
    "name": "ipython",
    "version": 3
   },
   "file_extension": ".py",
   "mimetype": "text/x-python",
   "name": "python",
   "nbconvert_exporter": "python",
   "pygments_lexer": "ipython3",
   "version": "3.8.5"
  }
 },
 "nbformat": 4,
 "nbformat_minor": 4
}
